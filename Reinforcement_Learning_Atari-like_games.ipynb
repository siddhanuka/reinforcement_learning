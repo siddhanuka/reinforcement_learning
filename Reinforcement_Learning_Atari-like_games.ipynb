{
 "cells": [
  {
   "cell_type": "code",
   "execution_count": 16,
   "id": "a9cff54b",
   "metadata": {},
   "outputs": [],
   "source": [
    "import gym\n",
    "import numpy as np\n"
   ]
  },
  {
   "cell_type": "code",
   "execution_count": 17,
   "id": "788e9ec8",
   "metadata": {},
   "outputs": [],
   "source": [
    "# Define hyperparameters\n",
    "alpha = 0.1  # learning rate\n",
    "gamma = 0.9  # discount factor\n",
    "epsilon = 0.1  # epsilon-greedy exploration rate\n",
    "num_episodes = 1000  # number of training episodes"
   ]
  },
  {
   "cell_type": "code",
   "execution_count": null,
   "id": "52776195",
   "metadata": {},
   "outputs": [],
   "source": [
    "# Create environment\n",
    "env_name = input(\"Enter Atari environment name: \")\n",
    "env = gym.make(env_name)"
   ]
  },
  {
   "cell_type": "code",
   "execution_count": null,
   "id": "10e034c7",
   "metadata": {},
   "outputs": [],
   "source": [
    "# Initialize Q-table\n",
    "num_actions = env.action_space.n\n",
    "num_states = env.observation_space.shape[0]\n",
    "q_table = np.zeros((num_states, num_actions))"
   ]
  },
  {
   "cell_type": "code",
   "execution_count": null,
   "id": "1b1f44c7",
   "metadata": {},
   "outputs": [],
   "source": [
    "# Run Q-learning algorithm\n",
    "for i in range(num_episodes):\n",
    "    state = env.reset()\n",
    "    done = False\n",
    "    while not done:\n",
    "        # Choose action\n",
    "        if np.random.random() < epsilon:\n",
    "            action = env.action_space.sample()  # explore\n",
    "        else:\n",
    "            action = np.argmax(q_table[state])  # exploit\n",
    "\n",
    "        # Take action and observe new state and reward\n",
    "        new_state, reward, done, info = env.step(action)\n",
    "\n",
    "        # Update Q-table\n",
    "        q_table[state, action] = (1 - alpha) * q_table[state, action] + alpha * (reward + gamma * np.max(q_table[new_state]))\n",
    "\n",
    "        state = new_state"
   ]
  },
  {
   "cell_type": "code",
   "execution_count": null,
   "id": "d36df90c",
   "metadata": {},
   "outputs": [],
   "source": [
    "# Test trained agent\n",
    "state = env.reset()\n",
    "done = False\n",
    "total_reward = 0\n",
    "while not done:\n",
    "    action = np.argmax(q_table[state])\n",
    "    state, reward, done, info = env.step(action)\n",
    "    total_reward += reward\n",
    "\n",
    "print(\"Total reward:\", total_reward)"
   ]
  }
 ],
 "metadata": {
  "kernelspec": {
   "display_name": "Python 3 (ipykernel)",
   "language": "python",
   "name": "python3"
  },
  "language_info": {
   "codemirror_mode": {
    "name": "ipython",
    "version": 3
   },
   "file_extension": ".py",
   "mimetype": "text/x-python",
   "name": "python",
   "nbconvert_exporter": "python",
   "pygments_lexer": "ipython3",
   "version": "3.9.12"
  }
 },
 "nbformat": 4,
 "nbformat_minor": 5
}
